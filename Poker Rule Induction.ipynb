{
 "cells": [
  {
   "cell_type": "markdown",
   "metadata": {},
   "source": [
    "# Poker Rule Induction"
   ]
  },
  {
   "cell_type": "markdown",
   "metadata": {},
   "source": [
    "0: Nothing in hand; not a recognized poker hand \n",
    "1: One pair; one pair of equal ranks within five cards\n",
    "2: Two pairs; two pairs of equal ranks within five cards\n",
    "3: Three of a kind; three equal ranks within five cards\n",
    "4: Straight; five cards, sequentially ranked with no gaps\n",
    "5: Flush; five cards with the same suit\n",
    "6: Full house; pair + different rank three of a kind\n",
    "7: Four of a kind; four equal ranks within five cards\n",
    "8: Straight flush; straight + flush\n",
    "9: Royal flush; {Ace, King, Queen, Jack, Ten} + flush"
   ]
  },
  {
   "cell_type": "code",
   "execution_count": 1,
   "metadata": {
    "collapsed": false
   },
   "outputs": [],
   "source": [
    "import math\n",
    "import pandas as pd\n",
    "import numpy as np\n",
    "import statsmodels  as stats"
   ]
  },
  {
   "cell_type": "markdown",
   "metadata": {},
   "source": [
    "## Load Data with Pandas"
   ]
  },
  {
   "cell_type": "code",
   "execution_count": 2,
   "metadata": {
    "collapsed": false
   },
   "outputs": [],
   "source": [
    "train=pd.read_csv('poker-hand-training-true.data.txt',\n",
    "                  names=['S1','C1','S2','C2','S3','C3','S4','C4','S5','C5','Type'])\n",
    "test=pd.read_csv('poker-hand-testing.data.txt',\n",
    "                 names=['S1','C1','S2','C2','S3','C3','S4','C4','S5','C5','Type'])"
   ]
  },
  {
   "cell_type": "code",
   "execution_count": 3,
   "metadata": {
    "collapsed": false
   },
   "outputs": [
    {
     "data": {
      "text/html": [
       "<div>\n",
       "<table border=\"1\" class=\"dataframe\">\n",
       "  <thead>\n",
       "    <tr style=\"text-align: right;\">\n",
       "      <th></th>\n",
       "      <th>S1</th>\n",
       "      <th>C1</th>\n",
       "      <th>S2</th>\n",
       "      <th>C2</th>\n",
       "      <th>S3</th>\n",
       "      <th>C3</th>\n",
       "      <th>S4</th>\n",
       "      <th>C4</th>\n",
       "      <th>S5</th>\n",
       "      <th>C5</th>\n",
       "      <th>Type</th>\n",
       "    </tr>\n",
       "  </thead>\n",
       "  <tbody>\n",
       "    <tr>\n",
       "      <th>0</th>\n",
       "      <td>1</td>\n",
       "      <td>10</td>\n",
       "      <td>1</td>\n",
       "      <td>11</td>\n",
       "      <td>1</td>\n",
       "      <td>13</td>\n",
       "      <td>1</td>\n",
       "      <td>12</td>\n",
       "      <td>1</td>\n",
       "      <td>1</td>\n",
       "      <td>9</td>\n",
       "    </tr>\n",
       "    <tr>\n",
       "      <th>1</th>\n",
       "      <td>2</td>\n",
       "      <td>11</td>\n",
       "      <td>2</td>\n",
       "      <td>13</td>\n",
       "      <td>2</td>\n",
       "      <td>10</td>\n",
       "      <td>2</td>\n",
       "      <td>12</td>\n",
       "      <td>2</td>\n",
       "      <td>1</td>\n",
       "      <td>9</td>\n",
       "    </tr>\n",
       "    <tr>\n",
       "      <th>2</th>\n",
       "      <td>3</td>\n",
       "      <td>12</td>\n",
       "      <td>3</td>\n",
       "      <td>11</td>\n",
       "      <td>3</td>\n",
       "      <td>13</td>\n",
       "      <td>3</td>\n",
       "      <td>10</td>\n",
       "      <td>3</td>\n",
       "      <td>1</td>\n",
       "      <td>9</td>\n",
       "    </tr>\n",
       "    <tr>\n",
       "      <th>3</th>\n",
       "      <td>4</td>\n",
       "      <td>10</td>\n",
       "      <td>4</td>\n",
       "      <td>11</td>\n",
       "      <td>4</td>\n",
       "      <td>1</td>\n",
       "      <td>4</td>\n",
       "      <td>13</td>\n",
       "      <td>4</td>\n",
       "      <td>12</td>\n",
       "      <td>9</td>\n",
       "    </tr>\n",
       "    <tr>\n",
       "      <th>4</th>\n",
       "      <td>4</td>\n",
       "      <td>1</td>\n",
       "      <td>4</td>\n",
       "      <td>13</td>\n",
       "      <td>4</td>\n",
       "      <td>12</td>\n",
       "      <td>4</td>\n",
       "      <td>11</td>\n",
       "      <td>4</td>\n",
       "      <td>10</td>\n",
       "      <td>9</td>\n",
       "    </tr>\n",
       "  </tbody>\n",
       "</table>\n",
       "</div>"
      ],
      "text/plain": [
       "   S1  C1  S2  C2  S3  C3  S4  C4  S5  C5  Type\n",
       "0   1  10   1  11   1  13   1  12   1   1     9\n",
       "1   2  11   2  13   2  10   2  12   2   1     9\n",
       "2   3  12   3  11   3  13   3  10   3   1     9\n",
       "3   4  10   4  11   4   1   4  13   4  12     9\n",
       "4   4   1   4  13   4  12   4  11   4  10     9"
      ]
     },
     "execution_count": 3,
     "metadata": {},
     "output_type": "execute_result"
    }
   ],
   "source": [
    "train.head()"
   ]
  },
  {
   "cell_type": "markdown",
   "metadata": {},
   "source": [
    "* Basic statistics about each column"
   ]
  },
  {
   "cell_type": "code",
   "execution_count": 4,
   "metadata": {
    "collapsed": false
   },
   "outputs": [
    {
     "data": {
      "text/html": [
       "<div>\n",
       "<table border=\"1\" class=\"dataframe\">\n",
       "  <thead>\n",
       "    <tr style=\"text-align: right;\">\n",
       "      <th></th>\n",
       "      <th>S1</th>\n",
       "      <th>C1</th>\n",
       "      <th>S2</th>\n",
       "      <th>C2</th>\n",
       "      <th>S3</th>\n",
       "      <th>C3</th>\n",
       "      <th>S4</th>\n",
       "      <th>C4</th>\n",
       "      <th>S5</th>\n",
       "      <th>C5</th>\n",
       "      <th>Type</th>\n",
       "    </tr>\n",
       "  </thead>\n",
       "  <tbody>\n",
       "    <tr>\n",
       "      <th>count</th>\n",
       "      <td>25010.000000</td>\n",
       "      <td>25010.000000</td>\n",
       "      <td>25010.000000</td>\n",
       "      <td>25010.000000</td>\n",
       "      <td>25010.000000</td>\n",
       "      <td>25010.000000</td>\n",
       "      <td>25010.000000</td>\n",
       "      <td>25010.000000</td>\n",
       "      <td>25010.000000</td>\n",
       "      <td>25010.000000</td>\n",
       "      <td>25010.000000</td>\n",
       "    </tr>\n",
       "    <tr>\n",
       "      <th>mean</th>\n",
       "      <td>2.508756</td>\n",
       "      <td>6.995242</td>\n",
       "      <td>2.497721</td>\n",
       "      <td>7.014194</td>\n",
       "      <td>2.510236</td>\n",
       "      <td>7.014154</td>\n",
       "      <td>2.495922</td>\n",
       "      <td>6.942463</td>\n",
       "      <td>2.497321</td>\n",
       "      <td>6.962735</td>\n",
       "      <td>0.621152</td>\n",
       "    </tr>\n",
       "    <tr>\n",
       "      <th>std</th>\n",
       "      <td>1.116483</td>\n",
       "      <td>3.749805</td>\n",
       "      <td>1.121767</td>\n",
       "      <td>3.766974</td>\n",
       "      <td>1.123148</td>\n",
       "      <td>3.744974</td>\n",
       "      <td>1.116009</td>\n",
       "      <td>3.747147</td>\n",
       "      <td>1.118732</td>\n",
       "      <td>3.741579</td>\n",
       "      <td>0.788361</td>\n",
       "    </tr>\n",
       "    <tr>\n",
       "      <th>min</th>\n",
       "      <td>1.000000</td>\n",
       "      <td>1.000000</td>\n",
       "      <td>1.000000</td>\n",
       "      <td>1.000000</td>\n",
       "      <td>1.000000</td>\n",
       "      <td>1.000000</td>\n",
       "      <td>1.000000</td>\n",
       "      <td>1.000000</td>\n",
       "      <td>1.000000</td>\n",
       "      <td>1.000000</td>\n",
       "      <td>0.000000</td>\n",
       "    </tr>\n",
       "    <tr>\n",
       "      <th>25%</th>\n",
       "      <td>2.000000</td>\n",
       "      <td>4.000000</td>\n",
       "      <td>1.000000</td>\n",
       "      <td>4.000000</td>\n",
       "      <td>2.000000</td>\n",
       "      <td>4.000000</td>\n",
       "      <td>1.000000</td>\n",
       "      <td>4.000000</td>\n",
       "      <td>1.000000</td>\n",
       "      <td>4.000000</td>\n",
       "      <td>0.000000</td>\n",
       "    </tr>\n",
       "    <tr>\n",
       "      <th>50%</th>\n",
       "      <td>3.000000</td>\n",
       "      <td>7.000000</td>\n",
       "      <td>2.000000</td>\n",
       "      <td>7.000000</td>\n",
       "      <td>3.000000</td>\n",
       "      <td>7.000000</td>\n",
       "      <td>2.000000</td>\n",
       "      <td>7.000000</td>\n",
       "      <td>3.000000</td>\n",
       "      <td>7.000000</td>\n",
       "      <td>1.000000</td>\n",
       "    </tr>\n",
       "    <tr>\n",
       "      <th>75%</th>\n",
       "      <td>4.000000</td>\n",
       "      <td>10.000000</td>\n",
       "      <td>4.000000</td>\n",
       "      <td>10.000000</td>\n",
       "      <td>4.000000</td>\n",
       "      <td>10.000000</td>\n",
       "      <td>3.000000</td>\n",
       "      <td>10.000000</td>\n",
       "      <td>3.000000</td>\n",
       "      <td>10.000000</td>\n",
       "      <td>1.000000</td>\n",
       "    </tr>\n",
       "    <tr>\n",
       "      <th>max</th>\n",
       "      <td>4.000000</td>\n",
       "      <td>13.000000</td>\n",
       "      <td>4.000000</td>\n",
       "      <td>13.000000</td>\n",
       "      <td>4.000000</td>\n",
       "      <td>13.000000</td>\n",
       "      <td>4.000000</td>\n",
       "      <td>13.000000</td>\n",
       "      <td>4.000000</td>\n",
       "      <td>13.000000</td>\n",
       "      <td>9.000000</td>\n",
       "    </tr>\n",
       "  </tbody>\n",
       "</table>\n",
       "</div>"
      ],
      "text/plain": [
       "                 S1            C1            S2            C2            S3  \\\n",
       "count  25010.000000  25010.000000  25010.000000  25010.000000  25010.000000   \n",
       "mean       2.508756      6.995242      2.497721      7.014194      2.510236   \n",
       "std        1.116483      3.749805      1.121767      3.766974      1.123148   \n",
       "min        1.000000      1.000000      1.000000      1.000000      1.000000   \n",
       "25%        2.000000      4.000000      1.000000      4.000000      2.000000   \n",
       "50%        3.000000      7.000000      2.000000      7.000000      3.000000   \n",
       "75%        4.000000     10.000000      4.000000     10.000000      4.000000   \n",
       "max        4.000000     13.000000      4.000000     13.000000      4.000000   \n",
       "\n",
       "                 C3            S4            C4            S5            C5  \\\n",
       "count  25010.000000  25010.000000  25010.000000  25010.000000  25010.000000   \n",
       "mean       7.014154      2.495922      6.942463      2.497321      6.962735   \n",
       "std        3.744974      1.116009      3.747147      1.118732      3.741579   \n",
       "min        1.000000      1.000000      1.000000      1.000000      1.000000   \n",
       "25%        4.000000      1.000000      4.000000      1.000000      4.000000   \n",
       "50%        7.000000      2.000000      7.000000      3.000000      7.000000   \n",
       "75%       10.000000      3.000000     10.000000      3.000000     10.000000   \n",
       "max       13.000000      4.000000     13.000000      4.000000     13.000000   \n",
       "\n",
       "               Type  \n",
       "count  25010.000000  \n",
       "mean       0.621152  \n",
       "std        0.788361  \n",
       "min        0.000000  \n",
       "25%        0.000000  \n",
       "50%        1.000000  \n",
       "75%        1.000000  \n",
       "max        9.000000  "
      ]
     },
     "execution_count": 4,
     "metadata": {},
     "output_type": "execute_result"
    }
   ],
   "source": [
    "train.describe()"
   ]
  },
  {
   "cell_type": "code",
   "execution_count": 5,
   "metadata": {
    "collapsed": false
   },
   "outputs": [
    {
     "name": "stdout",
     "output_type": "stream",
     "text": [
      "4    6312\n",
      "2    6298\n",
      "3    6250\n",
      "1    6150\n",
      "Name: S1, dtype: int64\n",
      "1     1982\n",
      "9     1967\n",
      "7     1961\n",
      "8     1948\n",
      "2     1941\n",
      "12    1940\n",
      "11    1926\n",
      "4     1919\n",
      "13    1915\n",
      "5     1892\n",
      "3     1882\n",
      "10    1877\n",
      "6     1860\n",
      "Name: C1, dtype: int64\n",
      "1    6309\n",
      "4    6300\n",
      "2    6244\n",
      "3    6157\n",
      "Name: S2, dtype: int64\n",
      "13    2007\n",
      "1     1985\n",
      "6     1956\n",
      "12    1939\n",
      "11    1931\n",
      "10    1922\n",
      "2     1921\n",
      "7     1912\n",
      "3     1912\n",
      "4     1905\n",
      "8     1898\n",
      "9     1877\n",
      "5     1845\n",
      "Name: C2, dtype: int64\n",
      "4    6419\n",
      "1    6230\n",
      "2    6208\n",
      "3    6153\n",
      "Name: S3, dtype: int64\n",
      "10    2000\n",
      "12    1987\n",
      "3     1965\n",
      "4     1935\n",
      "7     1927\n",
      "5     1920\n",
      "11    1913\n",
      "8     1912\n",
      "13    1910\n",
      "2     1910\n",
      "1     1895\n",
      "6     1884\n",
      "9     1852\n",
      "Name: C3, dtype: int64\n",
      "3    6314\n",
      "1    6269\n",
      "2    6248\n",
      "4    6179\n",
      "Name: S4, dtype: int64\n",
      "3     1999\n",
      "2     1987\n",
      "1     1983\n",
      "11    1953\n",
      "9     1946\n",
      "7     1943\n",
      "10    1924\n",
      "6     1913\n",
      "4     1902\n",
      "5     1883\n",
      "13    1874\n",
      "8     1865\n",
      "12    1838\n",
      "Name: C4, dtype: int64\n",
      "3    6314\n",
      "1    6308\n",
      "4    6216\n",
      "2    6172\n",
      "Name: S5, dtype: int64\n",
      "8     1994\n",
      "1     1970\n",
      "5     1963\n",
      "2     1957\n",
      "10    1948\n",
      "4     1946\n",
      "9     1931\n",
      "3     1914\n",
      "11    1905\n",
      "6     1894\n",
      "13    1892\n",
      "12    1863\n",
      "7     1833\n",
      "Name: C5, dtype: int64\n",
      "0    12493\n",
      "1    10599\n",
      "2     1206\n",
      "3      513\n",
      "4       93\n",
      "5       54\n",
      "6       36\n",
      "7        6\n",
      "9        5\n",
      "8        5\n",
      "Name: Type, dtype: int64\n"
     ]
    }
   ],
   "source": [
    "for column in train.columns:\n",
    "    print(train[column].value_counts())"
   ]
  },
  {
   "cell_type": "markdown",
   "metadata": {},
   "source": [
    "* Draw histogram of labels"
   ]
  },
  {
   "cell_type": "code",
   "execution_count": 6,
   "metadata": {
    "collapsed": false
   },
   "outputs": [
    {
     "data": {
      "text/plain": [
       "<matplotlib.axes._subplots.AxesSubplot at 0x10ebd6e80>"
      ]
     },
     "execution_count": 6,
     "metadata": {},
     "output_type": "execute_result"
    },
    {
     "data": {
      "image/png": "[encoded data removed]",
      "text/plain": [
       "<matplotlib.figure.Figure at 0x10bff0ac8>"
      ]
     },
     "metadata": {},
     "output_type": "display_data"
    }
   ],
   "source": [
    "%matplotlib inline\n",
    "train.Type.hist(rwidth=0.8)"
   ]
  },
  {
   "cell_type": "code",
   "execution_count": 8,
   "metadata": {
    "collapsed": false
   },
   "outputs": [
    {
     "name": "stdout",
     "output_type": "stream",
     "text": [
      "(25010, 11)\n",
      "(1000000, 11)\n"
     ]
    }
   ],
   "source": [
    "print(train.shape)\n",
    "print(test.shape)"
   ]
  },
  {
   "cell_type": "markdown",
   "metadata": {},
   "source": [
    "## Split both train and test into x and y"
   ]
  },
  {
   "cell_type": "code",
   "execution_count": 9,
   "metadata": {
    "collapsed": false
   },
   "outputs": [],
   "source": [
    "x_train=train[['S1','C1','S2','C2','S3','C3','S4','C4','S5','C5']] \n",
    "y_train=train['Type']\n",
    "x_test=test[['S1','C1','S2','C2','S3','C3','S4','C4','S5','C5']]\n",
    "y_test=test['Type']"
   ]
  },
  {
   "cell_type": "markdown",
   "metadata": {},
   "source": [
    "* Build a baseline"
   ]
  },
  {
   "cell_type": "code",
   "execution_count": 11,
   "metadata": {
    "collapsed": false
   },
   "outputs": [
    {
     "name": "stdout",
     "output_type": "stream",
     "text": [
      "5\n"
     ]
    },
    {
     "name": "stderr",
     "output_type": "stream",
     "text": [
      "/Users/Tiger/anaconda/lib/python3.6/site-packages/sklearn/metrics/classification.py:1113: UndefinedMetricWarning: Precision and F-score are ill-defined and being set to 0.0 in labels with no predicted samples.\n",
      "  'precision', 'predicted', average, warn_for)\n"
     ]
    },
    {
     "name": "stdout",
     "output_type": "stream",
     "text": [
      "             precision    recall  f1-score   support\n",
      "\n",
      "          0       0.57      0.68      0.62    501209\n",
      "          1       0.48      0.44      0.46    422498\n",
      "          2       0.17      0.02      0.04     47622\n",
      "          3       0.17      0.01      0.03     21121\n",
      "          4       0.08      0.00      0.01      3885\n",
      "          5       0.43      0.01      0.03      1996\n",
      "          6       0.05      0.00      0.00      1424\n",
      "          7       0.00      0.00      0.00       230\n",
      "          8       0.00      0.00      0.00        12\n",
      "          9       0.00      0.00      0.00         3\n",
      "\n",
      "avg / total       0.50      0.53      0.51   1000000\n",
      "\n",
      "0.531433\n",
      "------\n",
      "10\n"
     ]
    },
    {
     "name": "stderr",
     "output_type": "stream",
     "text": [
      "/Users/Tiger/anaconda/lib/python3.6/site-packages/sklearn/metrics/classification.py:1113: UndefinedMetricWarning: Precision and F-score are ill-defined and being set to 0.0 in labels with no predicted samples.\n",
      "  'precision', 'predicted', average, warn_for)\n"
     ]
    },
    {
     "name": "stdout",
     "output_type": "stream",
     "text": [
      "             precision    recall  f1-score   support\n",
      "\n",
      "          0       0.59      0.74      0.65    501209\n",
      "          1       0.51      0.44      0.47    422498\n",
      "          2       0.21      0.01      0.03     47622\n",
      "          3       0.27      0.01      0.02     21121\n",
      "          4       0.10      0.00      0.00      3885\n",
      "          5       0.53      0.01      0.02      1996\n",
      "          6       0.06      0.00      0.00      1424\n",
      "          7       0.00      0.00      0.00       230\n",
      "          8       0.00      0.00      0.00        12\n",
      "          9       0.00      0.00      0.00         3\n",
      "\n",
      "avg / total       0.53      0.56      0.53   1000000\n",
      "\n",
      "0.558299\n",
      "------\n",
      "20\n"
     ]
    },
    {
     "name": "stderr",
     "output_type": "stream",
     "text": [
      "/Users/Tiger/anaconda/lib/python3.6/site-packages/sklearn/metrics/classification.py:1113: UndefinedMetricWarning: Precision and F-score are ill-defined and being set to 0.0 in labels with no predicted samples.\n",
      "  'precision', 'predicted', average, warn_for)\n"
     ]
    },
    {
     "name": "stdout",
     "output_type": "stream",
     "text": [
      "             precision    recall  f1-score   support\n",
      "\n",
      "          0       0.60      0.76      0.67    501209\n",
      "          1       0.53      0.46      0.49    422498\n",
      "          2       0.28      0.01      0.01     47622\n",
      "          3       0.32      0.00      0.01     21121\n",
      "          4       0.21      0.00      0.00      3885\n",
      "          5       0.87      0.01      0.01      1996\n",
      "          6       0.33      0.00      0.00      1424\n",
      "          7       0.00      0.00      0.00       230\n",
      "          8       0.00      0.00      0.00        12\n",
      "          9       0.00      0.00      0.00         3\n",
      "\n",
      "avg / total       0.55      0.57      0.54   1000000\n",
      "\n",
      "0.574388\n",
      "------\n"
     ]
    }
   ],
   "source": [
    "from sklearn.ensemble import RandomForestClassifier\n",
    "from sklearn.metrics import classification_report\n",
    "from sklearn.metrics import accuracy_score\n",
    "\n",
    "for n in [5,10,20]:\n",
    "    clf=RandomForestClassifier(n_estimators=n)\n",
    "    clf=clf.fit(x_train,y_train)\n",
    "    print(n)\n",
    "    print(classification_report(y_test,clf.predict(x_test)))\n",
    "    print(accuracy_score(y_test,clf.predict(x_test)))\n",
    "    print(\"------\")\n"
   ]
  },
  {
   "cell_type": "code",
   "execution_count": 13,
   "metadata": {
    "collapsed": false
   },
   "outputs": [
    {
     "name": "stdout",
     "output_type": "stream",
     "text": [
      "[[379949 121148     97      9      5      1      0      0      0      0]\n",
      " [227776 193964    629    114     13      1      1      0      0      0]\n",
      " [ 17179  30021    361     57      3      0      1      0      0      0]\n",
      " [  5203  15680    142     94      2      0      0      0      0      0]\n",
      " [   851   3010     15      3      6      0      0      0      0      0]\n",
      " [  1633    350      0      0      0     13      0      0      0      0]\n",
      " [   184   1202     25     12      0      0      1      0      0      0]\n",
      " [    16    202      4      8      0      0      0      0      0      0]\n",
      " [     3      9      0      0      0      0      0      0      0      0]\n",
      " [     1      2      0      0      0      0      0      0      0      0]]\n"
     ]
    }
   ],
   "source": [
    "from sklearn.metrics import confusion_matrix\n",
    "print(confusion_matrix(y_test,clf.predict(x_test)))"
   ]
  },
  {
   "cell_type": "code",
   "execution_count": 14,
   "metadata": {
    "collapsed": false,
    "scrolled": true
   },
   "outputs": [
    {
     "data": {
      "text/html": [
       "<div>\n",
       "<table border=\"1\" class=\"dataframe\">\n",
       "  <thead>\n",
       "    <tr style=\"text-align: right;\">\n",
       "      <th></th>\n",
       "      <th>S1</th>\n",
       "      <th>C1</th>\n",
       "      <th>S2</th>\n",
       "      <th>C2</th>\n",
       "      <th>S3</th>\n",
       "      <th>C3</th>\n",
       "      <th>S4</th>\n",
       "      <th>C4</th>\n",
       "      <th>S5</th>\n",
       "      <th>C5</th>\n",
       "    </tr>\n",
       "  </thead>\n",
       "  <tbody>\n",
       "    <tr>\n",
       "      <th>14</th>\n",
       "      <td>3</td>\n",
       "      <td>8</td>\n",
       "      <td>4</td>\n",
       "      <td>12</td>\n",
       "      <td>3</td>\n",
       "      <td>9</td>\n",
       "      <td>4</td>\n",
       "      <td>2</td>\n",
       "      <td>3</td>\n",
       "      <td>2</td>\n",
       "    </tr>\n",
       "    <tr>\n",
       "      <th>19</th>\n",
       "      <td>3</td>\n",
       "      <td>7</td>\n",
       "      <td>2</td>\n",
       "      <td>7</td>\n",
       "      <td>4</td>\n",
       "      <td>11</td>\n",
       "      <td>1</td>\n",
       "      <td>12</td>\n",
       "      <td>3</td>\n",
       "      <td>1</td>\n",
       "    </tr>\n",
       "    <tr>\n",
       "      <th>20</th>\n",
       "      <td>1</td>\n",
       "      <td>13</td>\n",
       "      <td>4</td>\n",
       "      <td>8</td>\n",
       "      <td>2</td>\n",
       "      <td>7</td>\n",
       "      <td>2</td>\n",
       "      <td>10</td>\n",
       "      <td>3</td>\n",
       "      <td>13</td>\n",
       "    </tr>\n",
       "  </tbody>\n",
       "</table>\n",
       "</div>"
      ],
      "text/plain": [
       "    S1  C1  S2  C2  S3  C3  S4  C4  S5  C5\n",
       "14   3   8   4  12   3   9   4   2   3   2\n",
       "19   3   7   2   7   4  11   1  12   3   1\n",
       "20   1  13   4   8   2   7   2  10   3  13"
      ]
     },
     "execution_count": 14,
     "metadata": {},
     "output_type": "execute_result"
    }
   ],
   "source": [
    "x_train[y_train==1].iloc[1:4,]"
   ]
  },
  {
   "cell_type": "markdown",
   "metadata": {},
   "source": [
    "## Add hand count"
   ]
  },
  {
   "cell_type": "code",
   "execution_count": 15,
   "metadata": {
    "collapsed": false
   },
   "outputs": [],
   "source": [
    "def concat_card_count(data_set):\n",
    "    suit_counts = []\n",
    "    for i in range(1,14):\n",
    "        each_counts = pd.concat([data_set.C1 ==i, data_set.C2 == i, data_set.C3 ==i, data_set.C4 == i, data_set.C5 ==i],axis=1)\n",
    "        suit_counts.append(np.sum(each_counts,axis=1))\n",
    "    suit_counts=np.vstack(suit_counts)\n",
    "    suit_counts_df=pd.DataFrame(suit_counts.transpose(),columns=['C{}_Count'.format(i) for i in range(1,14)])\n",
    "    return pd.concat([suit_counts_df,data_set], axis=1)\n",
    "\n",
    "x_train = concat_card_count(x_train)\n",
    "x_test=concat_card_count(x_test)\n",
    "        "
   ]
  },
  {
   "cell_type": "code",
   "execution_count": 16,
   "metadata": {
    "collapsed": false,
    "scrolled": true
   },
   "outputs": [
    {
     "name": "stdout",
     "output_type": "stream",
     "text": [
      "   C1_Count  C2_Count  C3_Count  C4_Count  C5_Count  C6_Count  C7_Count  \\\n",
      "1         1         0         0         0         0         0         0   \n",
      "2         1         0         0         0         0         0         0   \n",
      "\n",
      "   C8_Count  C9_Count  C10_Count  C11_Count  C12_Count  C13_Count  S1  \n",
      "1         0         0          1          1          1          1   2  \n",
      "2         0         0          1          1          1          1   3  \n",
      "   C1  S2  C2  S3  C3  S4  C4  S5  C5\n",
      "1  11   2  13   2  10   2  12   2   1\n",
      "2  12   3  11   3  13   3  10   3   1\n"
     ]
    }
   ],
   "source": [
    "print(x_train.iloc[1:3,0:14])\n",
    "print(x_train.iloc[1:3,14:]"
   ]
  },
  {
   "cell_type": "code",
   "execution_count": 17,
   "metadata": {
    "collapsed": false
   },
   "outputs": [
    {
     "name": "stdout",
     "output_type": "stream",
     "text": [
      "             precision    recall  f1-score   support\n",
      "\n",
      "          0       0.99      1.00      0.99    501209\n",
      "          1       1.00      1.00      1.00    422498\n",
      "          2       0.97      0.97      0.97     47622\n",
      "          3       0.98      0.99      0.99     21121\n",
      "          4       1.00      0.18      0.30      3885\n",
      "          5       0.00      0.00      0.00      1996\n",
      "          6       0.86      0.02      0.04      1424\n",
      "          7       0.00      0.00      0.00       230\n",
      "          8       0.00      0.00      0.00        12\n",
      "          9       0.00      0.00      0.00         3\n",
      "\n",
      "avg / total       0.99      0.99      0.99   1000000\n",
      "\n"
     ]
    },
    {
     "name": "stderr",
     "output_type": "stream",
     "text": [
      "/Users/Tiger/anaconda/lib/python3.6/site-packages/sklearn/metrics/classification.py:1113: UndefinedMetricWarning: Precision and F-score are ill-defined and being set to 0.0 in labels with no predicted samples.\n",
      "  'precision', 'predicted', average, warn_for)\n"
     ]
    }
   ],
   "source": [
    "clf=RandomForestClassifier(n_estimators=20)\n",
    "clf=clf.fit(x_train,y_train)\n",
    "print(classification_report(y_test,clf.predict(x_test)))"
   ]
  },
  {
   "cell_type": "markdown",
   "metadata": {},
   "source": [
    "* F1 score for type 1 increased to 1, type 2 and type 3 improved a lot"
   ]
  },
  {
   "cell_type": "markdown",
   "metadata": {},
   "source": [
    "## Add Standard Deviation to help correctly classify Type 4b"
   ]
  },
  {
   "cell_type": "code",
   "execution_count": 19,
   "metadata": {
    "collapsed": false
   },
   "outputs": [
    {
     "name": "stdout",
     "output_type": "stream",
     "text": [
      "             precision    recall  f1-score   support\n",
      "\n",
      "          0       1.00      1.00      1.00    501209\n",
      "          1       1.00      1.00      1.00    422498\n",
      "          2       0.97      0.98      0.98     47622\n",
      "          3       0.98      0.98      0.98     21121\n",
      "          4       1.00      0.90      0.95      3885\n",
      "          5       0.17      0.00      0.00      1996\n",
      "          6       0.94      0.04      0.07      1424\n",
      "          7       0.29      0.01      0.02       230\n",
      "          8       0.00      0.00      0.00        12\n",
      "          9       0.00      0.00      0.00         3\n",
      "\n",
      "avg / total       0.99      0.99      0.99   1000000\n",
      "\n"
     ]
    }
   ],
   "source": [
    "x_train=train[['S1','C1','S2','C2','S3','C3','S4','C4','S5','C5']] \n",
    "y_train=train['Type']\n",
    "x_test=test[['S1','C1','S2','C2','S3','C3','S4','C4','S5','C5']]\n",
    "y_test=test['Type']\n",
    "\n",
    "def concat_card_count(data_set):\n",
    "    suit_counts = []\n",
    "    for i in range(1, 14):\n",
    "        each_counts = pd.concat([data_set.C1 == i, data_set.C2 == i, data_set.C3 == i, data_set.C4 == i,data_set.C5 == i], axis=1)\n",
    "        suit_counts.append(np.sum(each_counts, axis=1))\n",
    "    suit_counts = np.vstack(suit_counts)\n",
    "    suit_counts_df = pd.DataFrame(suit_counts.transpose(), columns=['C{}_Count'.format(i) for i in range(1,14)])\n",
    "    return pd.concat([suit_counts_df, data_set], axis=1)\n",
    "\n",
    "x_train = concat_card_count(x_train)\n",
    "x_test = concat_card_count(x_test)\n",
    "\n",
    "def concat_card_std(data_set):\n",
    "    std=np.std(data_set[['C1','C2','C3','C4','C5']],axis=1)\n",
    "    std_df=pd.DataFrame(std,columns=['Card_std'])\n",
    "    return pd.concat([std_df,data_set],axis=1)\n",
    "x_train=concat_card_std(x_train)\n",
    "x_test=concat_card_std(x_test)\n",
    "\n",
    "clf=RandomForestClassifier(n_estimators=20)\n",
    "clf=clf.fit(x_train,y_train)\n",
    "print(classification_report(y_test,clf.predict(x_test)))\n",
    "    "
   ]
  },
  {
   "cell_type": "code",
   "execution_count": 20,
   "metadata": {
    "collapsed": false
   },
   "outputs": [
    {
     "data": {
      "text/html": [
       "<div>\n",
       "<table border=\"1\" class=\"dataframe\">\n",
       "  <thead>\n",
       "    <tr style=\"text-align: right;\">\n",
       "      <th></th>\n",
       "      <th>Card_std</th>\n",
       "      <th>C1_Count</th>\n",
       "      <th>C2_Count</th>\n",
       "      <th>C3_Count</th>\n",
       "      <th>C4_Count</th>\n",
       "      <th>C5_Count</th>\n",
       "      <th>C6_Count</th>\n",
       "      <th>C7_Count</th>\n",
       "      <th>C8_Count</th>\n",
       "      <th>C9_Count</th>\n",
       "      <th>...</th>\n",
       "      <th>S1</th>\n",
       "      <th>C1</th>\n",
       "      <th>S2</th>\n",
       "      <th>C2</th>\n",
       "      <th>S3</th>\n",
       "      <th>C3</th>\n",
       "      <th>S4</th>\n",
       "      <th>C4</th>\n",
       "      <th>S5</th>\n",
       "      <th>C5</th>\n",
       "    </tr>\n",
       "  </thead>\n",
       "  <tbody>\n",
       "    <tr>\n",
       "      <th>643</th>\n",
       "      <td>1.414214</td>\n",
       "      <td>0</td>\n",
       "      <td>1</td>\n",
       "      <td>1</td>\n",
       "      <td>1</td>\n",
       "      <td>1</td>\n",
       "      <td>1</td>\n",
       "      <td>0</td>\n",
       "      <td>0</td>\n",
       "      <td>0</td>\n",
       "      <td>...</td>\n",
       "      <td>3</td>\n",
       "      <td>3</td>\n",
       "      <td>3</td>\n",
       "      <td>6</td>\n",
       "      <td>4</td>\n",
       "      <td>4</td>\n",
       "      <td>1</td>\n",
       "      <td>2</td>\n",
       "      <td>2</td>\n",
       "      <td>5</td>\n",
       "    </tr>\n",
       "    <tr>\n",
       "      <th>918</th>\n",
       "      <td>1.414214</td>\n",
       "      <td>0</td>\n",
       "      <td>0</td>\n",
       "      <td>0</td>\n",
       "      <td>0</td>\n",
       "      <td>1</td>\n",
       "      <td>1</td>\n",
       "      <td>1</td>\n",
       "      <td>1</td>\n",
       "      <td>1</td>\n",
       "      <td>...</td>\n",
       "      <td>3</td>\n",
       "      <td>8</td>\n",
       "      <td>2</td>\n",
       "      <td>7</td>\n",
       "      <td>3</td>\n",
       "      <td>9</td>\n",
       "      <td>2</td>\n",
       "      <td>6</td>\n",
       "      <td>1</td>\n",
       "      <td>5</td>\n",
       "    </tr>\n",
       "  </tbody>\n",
       "</table>\n",
       "<p>2 rows × 24 columns</p>\n",
       "</div>"
      ],
      "text/plain": [
       "     Card_std  C1_Count  C2_Count  C3_Count  C4_Count  C5_Count  C6_Count  \\\n",
       "643  1.414214         0         1         1         1         1         1   \n",
       "918  1.414214         0         0         0         0         1         1   \n",
       "\n",
       "     C7_Count  C8_Count  C9_Count ...  S1  C1  S2  C2  S3  C3  S4  C4  S5  C5  \n",
       "643         0         0         0 ...   3   3   3   6   4   4   1   2   2   5  \n",
       "918         1         1         1 ...   3   8   2   7   3   9   2   6   1   5  \n",
       "\n",
       "[2 rows x 24 columns]"
      ]
     },
     "execution_count": 20,
     "metadata": {},
     "output_type": "execute_result"
    }
   ],
   "source": [
    "x_test[(y_test==4)&(clf.predict(x_test)!=4)][1:3]\n",
    "x_test[(y_test==4)&(clf.predict(x_test)==4)][1:3]"
   ]
  },
  {
   "cell_type": "markdown",
   "metadata": {},
   "source": [
    "Performance for type 4 increased a lot\n",
    "BUG: In one specific situation, 1 can be combined with 10,11,12,13 and becomes a type 4 \n",
    "FIX: Calculate std with 1, then replace all 1 with 14, calculate again, if the std is smaller, then replace old one with this one"
   ]
  },
  {
   "cell_type": "markdown",
   "metadata": {},
   "source": [
    "## Fix type 4 error"
   ]
  },
  {
   "cell_type": "code",
   "execution_count": 21,
   "metadata": {
    "collapsed": false
   },
   "outputs": [
    {
     "name": "stdout",
     "output_type": "stream",
     "text": [
      "             precision    recall  f1-score   support\n",
      "\n",
      "          0       1.00      1.00      1.00    501209\n",
      "          1       0.99      1.00      1.00    422498\n",
      "          2       0.97      0.96      0.97     47622\n",
      "          3       0.98      0.97      0.97     21121\n",
      "          4       1.00      0.98      0.99      3885\n",
      "          5       0.09      0.00      0.00      1996\n",
      "          6       0.98      0.04      0.07      1424\n",
      "          7       0.25      0.00      0.01       230\n",
      "          8       0.00      0.00      0.00        12\n",
      "          9       0.02      0.33      0.04         3\n",
      "\n",
      "avg / total       0.99      0.99      0.99   1000000\n",
      "\n"
     ]
    }
   ],
   "source": [
    "x_train=train[['S1','C1','S2','C2','S3','C3','S4','C4','S5','C5']] \n",
    "y_train=train['Type']\n",
    "x_test=test[['S1','C1','S2','C2','S3','C3','S4','C4','S5','C5']]\n",
    "y_test=test['Type']\n",
    "\n",
    "def concat_card_count(data_set):\n",
    "    suit_counts = []\n",
    "    for i in range(1, 14):\n",
    "        each_counts = pd.concat([data_set.C1 == i, data_set.C2 == i, data_set.C3 == i, data_set.C4 == i,data_set.C5 == i], axis=1)\n",
    "        suit_counts.append(np.sum(each_counts, axis=1))\n",
    "    suit_counts = np.vstack(suit_counts)\n",
    "    suit_counts_df = pd.DataFrame(suit_counts.transpose(), columns=['C{}_Count'.format(i) for i in range(1,14)])\n",
    "    return pd.concat([suit_counts_df, data_set], axis=1)\n",
    "\n",
    "x_train = concat_card_count(x_train)\n",
    "x_test = concat_card_count(x_test)\n",
    "\n",
    "def concat_card_std(data_set):\n",
    "    hands=data_set[['C1','C2','C3','C4','C5']].as_matrix()\n",
    "    std=np.std(hands,axis=1)\n",
    "    hands[hands==1] =14\n",
    "    new_std = np.std(hands, axis=1)\n",
    "    std[new_std<std] = new_std[new_std < std]\n",
    "    std_df=pd.DataFrame(std,columns=['Card_std'])\n",
    "    return pd.concat([std_df,data_set],axis=1)\n",
    "x_train=concat_card_std(x_train)\n",
    "x_test=concat_card_std(x_test)\n",
    "\n",
    "clf=RandomForestClassifier(n_estimators=20)\n",
    "clf=clf.fit(x_train,y_train)\n",
    "print(classification_report(y_test,clf.predict(x_test)))"
   ]
  },
  {
   "cell_type": "markdown",
   "metadata": {},
   "source": [
    "Type 4 bug is fixed"
   ]
  },
  {
   "cell_type": "markdown",
   "metadata": {},
   "source": [
    "Type 5 is related to same suits"
   ]
  },
  {
   "cell_type": "markdown",
   "metadata": {},
   "source": [
    "## Add suit count"
   ]
  },
  {
   "cell_type": "code",
   "execution_count": 22,
   "metadata": {
    "collapsed": false
   },
   "outputs": [
    {
     "name": "stdout",
     "output_type": "stream",
     "text": [
      "             precision    recall  f1-score   support\n",
      "\n",
      "          0       1.00      1.00      1.00    501209\n",
      "          1       0.99      1.00      1.00    422498\n",
      "          2       0.98      0.96      0.97     47622\n",
      "          3       0.98      0.96      0.97     21121\n",
      "          4       1.00      1.00      1.00      3885\n",
      "          5       1.00      0.12      0.21      1996\n",
      "          6       0.91      0.03      0.06      1424\n",
      "          7       0.00      0.00      0.00       230\n",
      "          8       0.00      0.00      0.00        12\n",
      "          9       0.18      0.67      0.29         3\n",
      "\n",
      "avg / total       0.99      0.99      0.99   1000000\n",
      "\n"
     ]
    }
   ],
   "source": [
    "x_train=train[['S1','C1','S2','C2','S3','C3','S4','C4','S5','C5']] \n",
    "y_train=train['Type']\n",
    "x_test=test[['S1','C1','S2','C2','S3','C3','S4','C4','S5','C5']]\n",
    "y_test=test['Type']\n",
    "\n",
    "def concat_card_count(data_set):\n",
    "    suit_counts = []\n",
    "    for i in range(1, 14):\n",
    "        each_counts = pd.concat([data_set.C1 == i, data_set.C2 == i, data_set.C3 == i, data_set.C4 == i,data_set.C5 == i], axis=1)\n",
    "        suit_counts.append(np.sum(each_counts, axis=1))\n",
    "    suit_counts = np.vstack(suit_counts)\n",
    "    suit_counts_df = pd.DataFrame(suit_counts.transpose(), columns=['C{}_Count'.format(i) for i in range(1,14)])\n",
    "    return pd.concat([suit_counts_df, data_set], axis=1)\n",
    "\n",
    "x_train = concat_card_count(x_train)\n",
    "x_test = concat_card_count(x_test)\n",
    "\n",
    "def concat_card_std(data_set):\n",
    "    hands=data_set[['C1','C2','C3','C4','C5']].as_matrix()\n",
    "    std=np.std(hands,axis=1)\n",
    "    hands[hands==1] =14\n",
    "    new_std = np.std(hands, axis=1)\n",
    "    std[new_std<std] = new_std[new_std < std]\n",
    "    std_df=pd.DataFrame(std,columns=['Card_std'])\n",
    "    return pd.concat([std_df,data_set],axis=1)\n",
    "x_train=concat_card_std(x_train)\n",
    "x_test=concat_card_std(x_test)\n",
    "\n",
    "def concat_suit_count(data_set):\n",
    "    suit_counts = []\n",
    "    for i in range(1, 5):\n",
    "        each_counts = pd.concat([data_set.S1 == i, data_set.S2 == i, data_set.S3 == i, data_set.S4 == i,data_set.S5 == i], axis=1)\n",
    "        suit_counts.append(np.sum(each_counts, axis=1))\n",
    "    suit_counts = np.vstack(suit_counts)\n",
    "    suit_counts_df = pd.DataFrame(suit_counts.transpose(), columns=['S{}_Count'.format(i) for i in range(1,5)])\n",
    "    return pd.concat([suit_counts_df, data_set], axis=1)\n",
    "\n",
    "x_train=concat_suit_count(x_train)\n",
    "x_test=concat_suit_count(x_test)\n",
    "\n",
    "clf=RandomForestClassifier(n_estimators=20)\n",
    "clf=clf.fit(x_train,y_train)\n",
    "print(classification_report(y_test,clf.predict(x_test)))"
   ]
  },
  {
   "cell_type": "markdown",
   "metadata": {},
   "source": [
    "* Adding suit count is improving the result but not perfect"
   ]
  },
  {
   "cell_type": "markdown",
   "metadata": {},
   "source": [
    "## Add suit value count"
   ]
  },
  {
   "cell_type": "code",
   "execution_count": 68,
   "metadata": {
    "collapsed": false
   },
   "outputs": [
    {
     "name": "stdout",
     "output_type": "stream",
     "text": [
      "             precision    recall  f1-score   support\n",
      "\n",
      "          0       1.00      1.00      1.00    501209\n",
      "          1       0.99      1.00      0.99    422498\n",
      "          2       0.98      0.89      0.93     47622\n",
      "          3       0.97      0.95      0.96     21121\n",
      "          4       1.00      0.99      1.00      3885\n",
      "          5       1.00      1.00      1.00      1996\n",
      "          6       0.95      0.03      0.05      1424\n",
      "          7       0.00      0.00      0.00       230\n",
      "          8       1.00      0.58      0.74        12\n",
      "          9       0.60      1.00      0.75         3\n",
      "\n",
      "avg / total       0.99      0.99      0.99   1000000\n",
      "\n"
     ]
    }
   ],
   "source": [
    "x_train=train[['S1','C1','S2','C2','S3','C3','S4','C4','S5','C5']] \n",
    "y_train=train['Type']\n",
    "x_test=test[['S1','C1','S2','C2','S3','C3','S4','C4','S5','C5']]\n",
    "y_test=test['Type']\n",
    "\n",
    "def concat_card_count(data_set):\n",
    "    suit_counts = []\n",
    "    for i in range(1, 14):\n",
    "        each_counts = pd.concat([data_set.C1 == i, data_set.C2 == i, data_set.C3 == i, data_set.C4 == i,data_set.C5 == i], axis=1)\n",
    "        suit_counts.append(np.sum(each_counts, axis=1))\n",
    "    suit_counts = np.vstack(suit_counts)\n",
    "    suit_counts_df = pd.DataFrame(suit_counts.transpose(), columns=['C{}_Count'.format(i) for i in range(1,14)])\n",
    "    return pd.concat([suit_counts_df, data_set], axis=1)\n",
    "\n",
    "x_train = concat_card_count(x_train)\n",
    "x_test = concat_card_count(x_test)\n",
    "\n",
    "def concat_card_std(data_set):\n",
    "    hands=data_set[['C1','C2','C3','C4','C5']].as_matrix()\n",
    "    std=np.std(hands,axis=1)\n",
    "    hands[hands==1] =14\n",
    "    new_std = np.std(hands, axis=1)\n",
    "    std[new_std<std] = new_std[new_std < std]\n",
    "    std_df=pd.DataFrame(std,columns=['Card_std'])\n",
    "    return pd.concat([std_df,data_set],axis=1)\n",
    "x_train=concat_card_std(x_train)\n",
    "x_test=concat_card_std(x_test)\n",
    "\n",
    "def concat_suit_count(data_set):\n",
    "    suit_counts = []\n",
    "    for i in range(1, 5):\n",
    "        each_counts = pd.concat([data_set.S1 == i, data_set.S2 == i, data_set.S3 == i, data_set.S4 == i,data_set.S5 == i], axis=1)\n",
    "        suit_counts.append(np.sum(each_counts, axis=1))\n",
    "    suit_counts = np.vstack(suit_counts)\n",
    "    suit_counts_df = pd.DataFrame(suit_counts.transpose(), columns=['S{}_Count'.format(i) for i in range(1,5)])\n",
    "    return pd.concat([suit_counts_df, data_set], axis=1)\n",
    "\n",
    "x_train=concat_suit_count(x_train)\n",
    "x_test=concat_suit_count(x_test)\n",
    "\n",
    "def concat_suit_value_count(data_set):\n",
    "    suit_counts = []\n",
    "    for i in range(0, 6):\n",
    "        each_counts = pd.concat([data_set.S1_Count == i, data_set.S2_Count == i, data_set.S3_Count == i, data_set.S4_Count == i], axis=1)\n",
    "        suit_counts.append(np.sum(each_counts, axis=1))\n",
    "    suit_counts = np.vstack(suit_counts)\n",
    "    suit_counts_df = pd.DataFrame(suit_counts.transpose(), columns=['Suit_Value_Count_{}'.format(i) for i in range(0,6)])\n",
    "    return pd.concat([suit_counts_df, data_set], axis=1)\n",
    "\n",
    "x_train=concat_suit_value_count(x_train)\n",
    "x_test=concat_suit_value_count(x_test)\n",
    "\n",
    "clf=RandomForestClassifier(n_estimators=20)\n",
    "clf=clf.fit(x_train,y_train)\n",
    "print(classification_report(y_test,clf.predict(x_test)))"
   ]
  },
  {
   "cell_type": "markdown",
   "metadata": {},
   "source": [
    "The score for type 5 is perfect now"
   ]
  },
  {
   "cell_type": "markdown",
   "metadata": {},
   "source": [
    "## Find the important feature for prediction"
   ]
  },
  {
   "cell_type": "code",
   "execution_count": 25,
   "metadata": {
    "collapsed": false
   },
   "outputs": [
    {
     "name": "stderr",
     "output_type": "stream",
     "text": [
      "/Users/Tiger/anaconda/lib/python3.6/site-packages/ipykernel/__main__.py:5: FutureWarning: sort is deprecated, use sort_values(inplace=True) for INPLACE sorting\n"
     ]
    },
    {
     "name": "stdout",
     "output_type": "stream",
     "text": [
      "Feature ranking:\n",
      "1. feature C7_Count (0.074869)\n",
      "2. feature C6_Count (0.069245)\n",
      "3. feature C4_Count (0.068463)\n",
      "4. feature C5_Count (0.067630)\n",
      "5. feature C3_Count (0.066806)\n",
      "6. feature C2_Count (0.065912)\n",
      "7. feature C11_Count (0.065912)\n",
      "8. feature C8_Count (0.065256)\n",
      "9. feature C1_Count (0.063808)\n",
      "10. feature C13_Count (0.063756)\n",
      "11. feature C9_Count (0.062801)\n",
      "12. feature C12_Count (0.062085)\n",
      "13. feature C10_Count (0.060787)\n",
      "14. feature Card_std (0.057229)\n",
      "15. feature C3 (0.009607)\n",
      "16. feature C1 (0.009509)\n",
      "17. feature C4 (0.009483)\n",
      "18. feature C5 (0.009445)\n",
      "19. feature C2 (0.009404)\n",
      "20. feature S4_Count (0.005268)\n",
      "21. feature S2_Count (0.004849)\n",
      "22. feature S3_Count (0.004784)\n",
      "23. feature S1_Count (0.004161)\n",
      "24. feature S5 (0.003934)\n",
      "25. feature S1 (0.003855)\n",
      "26. feature S4 (0.003831)\n",
      "27. feature S2 (0.003664)\n",
      "28. feature S3 (0.003645)\n"
     ]
    },
    {
     "data": {
      "image/png": "[encoded data removed]",
      "text/plain": [
       "<matplotlib.figure.Figure at 0x10de9e358>"
      ]
     },
     "metadata": {},
     "output_type": "display_data"
    }
   ],
   "source": [
    "import matplotlib.pyplot as plt\n",
    "%matplotlib inline\n",
    "def feature_importance(forest):\n",
    "    feature_importance = pd.Series(forest.feature_importances_, index=x_train.columns)\n",
    "    feature_importance.sort(inplace=True,ascending=False)\n",
    "    print(\"Feature ranking:\")\n",
    "    for f in range(x_train.shape[1]):\n",
    "        print(\"%d. feature %s (%f)\" % (f+1,feature_importance.index[f], feature_importance[f]))\n",
    "    feature_importance.plot(kind=\"barh\")\n",
    "feature_importance(clf)"
   ]
  },
  {
   "cell_type": "markdown",
   "metadata": {},
   "source": [
    "## Try to remove raw features\n",
    "* Too many features will cause overfitting\n",
    "* Raw features contains same information as extracted features\n",
    "* if remove raw features will harm a lot of performance, that means we haven't extracted all information from raw features yet."
   ]
  },
  {
   "cell_type": "code",
   "execution_count": 26,
   "metadata": {
    "collapsed": false
   },
   "outputs": [
    {
     "name": "stdout",
     "output_type": "stream",
     "text": [
      "             precision    recall  f1-score   support\n",
      "\n",
      "          0       1.00      1.00      1.00    501209\n",
      "          1       1.00      1.00      1.00    422498\n",
      "          2       0.98      0.98      0.98     47622\n",
      "          3       0.98      0.97      0.98     21121\n",
      "          4       1.00      1.00      1.00      3885\n",
      "          5       1.00      0.99      0.99      1996\n",
      "          6       0.91      0.07      0.13      1424\n",
      "          7       1.00      0.04      0.08       230\n",
      "          8       1.00      0.50      0.67        12\n",
      "          9       0.75      1.00      0.86         3\n",
      "\n",
      "avg / total       1.00      1.00      1.00   1000000\n",
      "\n"
     ]
    }
   ],
   "source": [
    "x_train=train[['S1','C1','S2','C2','S3','C3','S4','C4','S5','C5']] \n",
    "y_train=train['Type']\n",
    "x_test=test[['S1','C1','S2','C2','S3','C3','S4','C4','S5','C5']]\n",
    "y_test=test['Type']\n",
    "\n",
    "def concat_card_count(data_set):\n",
    "    suit_counts = []\n",
    "    for i in range(1, 14):\n",
    "        each_counts = pd.concat([data_set.C1 == i, data_set.C2 == i, data_set.C3 == i, data_set.C4 == i,data_set.C5 == i], axis=1)\n",
    "        suit_counts.append(np.sum(each_counts, axis=1))\n",
    "    suit_counts = np.vstack(suit_counts)\n",
    "    suit_counts_df = pd.DataFrame(suit_counts.transpose(), columns=['C{}_Count'.format(i) for i in range(1,14)])\n",
    "    return pd.concat([suit_counts_df, data_set], axis=1)\n",
    "\n",
    "x_train = concat_card_count(x_train)\n",
    "x_test = concat_card_count(x_test)\n",
    "\n",
    "def concat_card_std(data_set):\n",
    "    hands=data_set[['C1','C2','C3','C4','C5']].as_matrix()\n",
    "    std=np.std(hands,axis=1)\n",
    "    hands[hands==1] =14\n",
    "    new_std = np.std(hands, axis=1)\n",
    "    std[new_std<std] = new_std[new_std < std]\n",
    "    std_df=pd.DataFrame(std,columns=['Card_std'])\n",
    "    return pd.concat([std_df,data_set],axis=1)\n",
    "x_train=concat_card_std(x_train)\n",
    "x_test=concat_card_std(x_test)\n",
    "\n",
    "def concat_suit_count(data_set):\n",
    "    suit_counts = []\n",
    "    for i in range(1, 5):\n",
    "        each_counts = pd.concat([data_set.S1 == i, data_set.S2 == i, data_set.S3 == i, data_set.S4 == i,data_set.S5 == i], axis=1)\n",
    "        suit_counts.append(np.sum(each_counts, axis=1))\n",
    "    suit_counts = np.vstack(suit_counts)\n",
    "    suit_counts_df = pd.DataFrame(suit_counts.transpose(), columns=['S{}_Count'.format(i) for i in range(1,5)])\n",
    "    return pd.concat([suit_counts_df, data_set], axis=1)\n",
    "\n",
    "x_train=concat_suit_count(x_train)\n",
    "x_test=concat_suit_count(x_test)\n",
    "\n",
    "def concat_suit_value_count(data_set):\n",
    "    suit_counts = []\n",
    "    for i in range(0, 6):\n",
    "        each_counts = pd.concat([data_set.S1_Count == i, data_set.S2_Count == i, data_set.S3_Count == i, data_set.S4_Count == i], axis=1)\n",
    "        suit_counts.append(np.sum(each_counts, axis=1))\n",
    "    suit_counts = np.vstack(suit_counts)\n",
    "    suit_counts_df = pd.DataFrame(suit_counts.transpose(), columns=['Suit_Value_Count_{}'.format(i) for i in range(0,6)])\n",
    "    return pd.concat([suit_counts_df, data_set], axis=1)\n",
    "\n",
    "x_train=concat_suit_value_count(x_train)\n",
    "x_test=concat_suit_value_count(x_test)\n",
    "\n",
    "x_train = x_train.drop(['S1','C1','S2','C2','S3','C3','S4','C4','S5','C5'], axis=1)\n",
    "x_test = x_test.drop(['S1','C1','S2','C2','S3','C3','S4','C4','S5','C5'], axis=1)\n",
    "\n",
    "\n",
    "clf=RandomForestClassifier(n_estimators=20)\n",
    "clf=clf.fit(x_train,y_train)\n",
    "print(classification_report(y_test,clf.predict(x_test)))"
   ]
  },
  {
   "cell_type": "markdown",
   "metadata": {},
   "source": [
    "* The performance does not drop a lot"
   ]
  },
  {
   "cell_type": "markdown",
   "metadata": {},
   "source": [
    "## Add hand value count"
   ]
  },
  {
   "cell_type": "code",
   "execution_count": 27,
   "metadata": {
    "collapsed": false,
    "scrolled": true
   },
   "outputs": [
    {
     "name": "stdout",
     "output_type": "stream",
     "text": [
      "             precision    recall  f1-score   support\n",
      "\n",
      "          0       1.00      1.00      1.00    501209\n",
      "          1       1.00      1.00      1.00    422498\n",
      "          2       1.00      1.00      1.00     47622\n",
      "          3       1.00      1.00      1.00     21121\n",
      "          4       1.00      1.00      1.00      3885\n",
      "          5       1.00      1.00      1.00      1996\n",
      "          6       1.00      1.00      1.00      1424\n",
      "          7       1.00      1.00      1.00       230\n",
      "          8       1.00      0.75      0.86        12\n",
      "          9       0.75      1.00      0.86         3\n",
      "\n",
      "avg / total       1.00      1.00      1.00   1000000\n",
      "\n"
     ]
    }
   ],
   "source": [
    "x_train=train[['S1','C1','S2','C2','S3','C3','S4','C4','S5','C5']] \n",
    "y_train=train['Type']\n",
    "x_test=test[['S1','C1','S2','C2','S3','C3','S4','C4','S5','C5']]\n",
    "y_test=test['Type']\n",
    "\n",
    "def concat_card_count(data_set):\n",
    "    suit_counts = []\n",
    "    for i in range(1, 14):\n",
    "        each_counts = pd.concat([data_set.C1 == i,\n",
    "                                 data_set.C2 == i, \n",
    "                                 data_set.C3 == i, \n",
    "                                 data_set.C4 == i,\n",
    "                                 data_set.C5 == i], axis=1)\n",
    "        suit_counts.append(np.sum(each_counts, axis=1))\n",
    "    suit_counts = np.vstack(suit_counts)\n",
    "    suit_counts_df = pd.DataFrame(suit_counts.transpose(), columns=['C{}_Count'.format(i) for i in range(1,14)])\n",
    "    return pd.concat([suit_counts_df, data_set], axis=1)\n",
    "\n",
    "x_train = concat_card_count(x_train)\n",
    "x_test = concat_card_count(x_test)\n",
    "\n",
    "def concat_card_std(data_set):\n",
    "    hands=data_set[['C1','C2','C3','C4','C5']].as_matrix()\n",
    "    std=np.std(hands,axis=1)\n",
    "    hands[hands==1] =14\n",
    "    new_std = np.std(hands, axis=1)\n",
    "    std[new_std<std] = new_std[new_std < std]\n",
    "    std_df=pd.DataFrame(std,columns=['Card_std'])\n",
    "    return pd.concat([std_df,data_set],axis=1)\n",
    "x_train=concat_card_std(x_train)\n",
    "x_test=concat_card_std(x_test)\n",
    "\n",
    "def concat_suit_count(data_set):\n",
    "    suit_counts = []\n",
    "    for i in range(1, 5):\n",
    "        each_counts = pd.concat([data_set.S1 == i,\n",
    "                                 data_set.S2 == i,\n",
    "                                 data_set.S3 == i,\n",
    "                                 data_set.S4 == i,\n",
    "                                 data_set.S5 == i], axis=1)\n",
    "        suit_counts.append(np.sum(each_counts, axis=1))\n",
    "    suit_counts = np.vstack(suit_counts)\n",
    "    suit_counts_df = pd.DataFrame(suit_counts.transpose(), columns=['S{}_Count'.format(i) for i in range(1,5)])\n",
    "    return pd.concat([suit_counts_df, data_set], axis=1)\n",
    "\n",
    "x_train=concat_suit_count(x_train)\n",
    "x_test=concat_suit_count(x_test)\n",
    "\n",
    "def concat_suit_value_count(data_set):\n",
    "    suit_counts = []\n",
    "    for i in range(0, 6):\n",
    "        each_counts = pd.concat([data_set.S1_Count == i,\n",
    "                                 data_set.S2_Count == i, \n",
    "                                 data_set.S3_Count == i, \n",
    "                                 data_set.S4_Count == i], \n",
    "                                axis=1)\n",
    "        suit_counts.append(np.sum(each_counts, axis=1))\n",
    "    suit_counts = np.vstack(suit_counts)\n",
    "    suit_counts_df = pd.DataFrame(suit_counts.transpose(), columns=['Suit_Value_Count_{}'.format(i) for i in range(0,6)])\n",
    "    return pd.concat([suit_counts_df, data_set], axis=1)\n",
    "\n",
    "x_train=concat_suit_value_count(x_train)\n",
    "x_test=concat_suit_value_count(x_test)\n",
    "\n",
    "x_train = x_train.drop(['S1','C1','S2','C2','S3','C3','S4','C4','S5','C5'], axis=1)\n",
    "x_test = x_test.drop(['S1','C1','S2','C2','S3','C3','S4','C4','S5','C5'], axis=1)\n",
    "\n",
    "def concat_hand_value_count(data_set):\n",
    "    suit_counts = []\n",
    "    for i in range(0, 6):\n",
    "        each_counts = pd.concat([data_set.C1_Count == i,\n",
    "                                 data_set.C2_Count == i, \n",
    "                                 data_set.C3_Count == i, \n",
    "                                 data_set.C4_Count == i,\n",
    "                                 data_set.C5_Count == i,\n",
    "                                 data_set.C6_Count == i, \n",
    "                                 data_set.C7_Count == i, \n",
    "                                 data_set.C8_Count == i,\n",
    "                                 data_set.C9_Count == i,\n",
    "                                 data_set.C10_Count == i, \n",
    "                                 data_set.C11_Count == i, \n",
    "                                 data_set.C12_Count == i,\n",
    "                                 data_set.C13_Count == i,\n",
    "                                ], axis=1)\n",
    "        suit_counts.append(np.sum(each_counts, axis=1))\n",
    "    suit_counts = np.vstack(suit_counts)\n",
    "    suit_counts_df = pd.DataFrame(suit_counts.transpose(),\n",
    "                                  columns=['Card_Value_Count_{}'.format(i) for i in range(0,6)])\n",
    "    return pd.concat([suit_counts_df, data_set], axis=1)\n",
    "\n",
    "x_train=concat_hand_value_count(x_train)\n",
    "x_test=concat_hand_value_count(x_test)\n",
    "\n",
    "clf=RandomForestClassifier(n_estimators=20)\n",
    "clf=clf.fit(x_train,y_train)\n",
    "print(classification_report(y_test,clf.predict(x_test)))"
   ]
  },
  {
   "cell_type": "markdown",
   "metadata": {},
   "source": [
    "* This feature helps improve type 6 result"
   ]
  },
  {
   "cell_type": "markdown",
   "metadata": {},
   "source": [
    "## Add flag for the Ace"
   ]
  },
  {
   "cell_type": "code",
   "execution_count": 28,
   "metadata": {
    "collapsed": false,
    "scrolled": true
   },
   "outputs": [
    {
     "name": "stdout",
     "output_type": "stream",
     "text": [
      "             precision    recall  f1-score   support\n",
      "\n",
      "          0       1.00      1.00      1.00    501209\n",
      "          1       1.00      1.00      1.00    422498\n",
      "          2       1.00      1.00      1.00     47622\n",
      "          3       1.00      1.00      1.00     21121\n",
      "          4       1.00      1.00      1.00      3885\n",
      "          5       1.00      1.00      1.00      1996\n",
      "          6       1.00      1.00      1.00      1424\n",
      "          7       1.00      1.00      1.00       230\n",
      "          8       1.00      0.83      0.91        12\n",
      "          9       1.00      1.00      1.00         3\n",
      "\n",
      "avg / total       1.00      1.00      1.00   1000000\n",
      "\n",
      "0.999998\n"
     ]
    }
   ],
   "source": [
    "x_train=train[['S1','C1','S2','C2','S3','C3','S4','C4','S5','C5']] \n",
    "y_train=train['Type']\n",
    "x_test=test[['S1','C1','S2','C2','S3','C3','S4','C4','S5','C5']]\n",
    "y_test=test['Type']\n",
    "\n",
    "def concat_card_count(data_set):\n",
    "    suit_counts = []\n",
    "    for i in range(1, 14):\n",
    "        each_counts = pd.concat([data_set.C1 == i,\n",
    "                                 data_set.C2 == i, \n",
    "                                 data_set.C3 == i, \n",
    "                                 data_set.C4 == i,\n",
    "                                 data_set.C5 == i], axis=1)\n",
    "        suit_counts.append(np.sum(each_counts, axis=1))\n",
    "    suit_counts = np.vstack(suit_counts)\n",
    "    suit_counts_df = pd.DataFrame(suit_counts.transpose(), columns=['C{}_Count'.format(i) for i in range(1,14)])\n",
    "    return pd.concat([suit_counts_df, data_set], axis=1)\n",
    "\n",
    "x_train = concat_card_count(x_train)\n",
    "x_test = concat_card_count(x_test)\n",
    "\n",
    "def concat_card_std(data_set):\n",
    "    hands=data_set[['C1','C2','C3','C4','C5']].as_matrix()\n",
    "    std=np.std(hands,axis=1)\n",
    "    hands[hands==1] =14\n",
    "    new_std = np.std(hands, axis=1)\n",
    "    std[new_std<std] = new_std[new_std < std]\n",
    "    std_df=pd.DataFrame(std,columns=['Card_std'])\n",
    "    return pd.concat([std_df,data_set],axis=1)\n",
    "x_train=concat_card_std(x_train)\n",
    "x_test=concat_card_std(x_test)\n",
    "\n",
    "def concat_suit_count(data_set):\n",
    "    suit_counts = []\n",
    "    for i in range(1, 5):\n",
    "        each_counts = pd.concat([data_set.S1 == i,\n",
    "                                 data_set.S2 == i,\n",
    "                                 data_set.S3 == i,\n",
    "                                 data_set.S4 == i,\n",
    "                                 data_set.S5 == i], axis=1)\n",
    "        suit_counts.append(np.sum(each_counts, axis=1))\n",
    "    suit_counts = np.vstack(suit_counts)\n",
    "    suit_counts_df = pd.DataFrame(suit_counts.transpose(), columns=['S{}_Count'.format(i) for i in range(1,5)])\n",
    "    return pd.concat([suit_counts_df, data_set], axis=1)\n",
    "\n",
    "x_train=concat_suit_count(x_train)\n",
    "x_test=concat_suit_count(x_test)\n",
    "\n",
    "def concat_suit_value_count(data_set):\n",
    "    suit_counts = []\n",
    "    for i in range(0, 6):\n",
    "        each_counts = pd.concat([data_set.S1_Count == i,\n",
    "                                 data_set.S2_Count == i, \n",
    "                                 data_set.S3_Count == i, \n",
    "                                 data_set.S4_Count == i], \n",
    "                                axis=1)\n",
    "        suit_counts.append(np.sum(each_counts, axis=1))\n",
    "    suit_counts = np.vstack(suit_counts)\n",
    "    suit_counts_df = pd.DataFrame(suit_counts.transpose(), columns=['Suit_Value_Count_{}'.format(i) for i in range(0,6)])\n",
    "    return pd.concat([suit_counts_df, data_set], axis=1)\n",
    "\n",
    "x_train=concat_suit_value_count(x_train)\n",
    "x_test=concat_suit_value_count(x_test)\n",
    "\n",
    "x_train = x_train.drop(['S1','C1','S2','C2','S3','C3','S4','C4','S5','C5'], axis=1)\n",
    "x_test = x_test.drop(['S1','C1','S2','C2','S3','C3','S4','C4','S5','C5'], axis=1)\n",
    "\n",
    "def concat_hand_value_count(data_set):\n",
    "    suit_counts = []\n",
    "    for i in range(0, 6):\n",
    "        each_counts = pd.concat([data_set.C1_Count == i,\n",
    "                                 data_set.C2_Count == i, \n",
    "                                 data_set.C3_Count == i, \n",
    "                                 data_set.C4_Count == i,\n",
    "                                 data_set.C5_Count == i,\n",
    "                                 data_set.C6_Count == i, \n",
    "                                 data_set.C7_Count == i, \n",
    "                                 data_set.C8_Count == i,\n",
    "                                 data_set.C9_Count == i,\n",
    "                                 data_set.C10_Count == i, \n",
    "                                 data_set.C11_Count == i, \n",
    "                                 data_set.C12_Count == i,\n",
    "                                 data_set.C13_Count == i,\n",
    "                                ], axis=1)\n",
    "        suit_counts.append(np.sum(each_counts, axis=1))\n",
    "    suit_counts = np.vstack(suit_counts)\n",
    "    suit_counts_df = pd.DataFrame(suit_counts.transpose(),\n",
    "                                  columns=['Card_Value_Count_{}'.format(i) for i in range(0,6)])\n",
    "    return pd.concat([suit_counts_df, data_set], axis=1)\n",
    "\n",
    "x_train=concat_hand_value_count(x_train)\n",
    "x_test=concat_hand_value_count(x_test)\n",
    "\n",
    "def concat_Ace_flag(data_set):\n",
    "    data_set['Ace_flag']=data_set['C1_Count']==1\n",
    "    return data_set\n",
    "    \n",
    "x_train=concat_Ace_flag(x_train)\n",
    "x_test=concat_Ace_flag(x_test)\n",
    "\n",
    "\n",
    "clf=RandomForestClassifier(n_estimators=20)\n",
    "clf=clf.fit(x_train,y_train)\n",
    "print(classification_report(y_test,clf.predict(x_test)))\n",
    "print(accuracy_score(y_test,clf.predict(x_test)))"
   ]
  }
 ],
 "metadata": {
  "kernelspec": {
   "display_name": "Python 3",
   "language": "python",
   "name": "python3"
  },
  "language_info": {
   "codemirror_mode": {
    "name": "ipython",
    "version": 3
   },
   "file_extension": ".py",
   "mimetype": "text/x-python",
   "name": "python",
   "nbconvert_exporter": "python",
   "pygments_lexer": "ipython3",
   "version": "3.6.0"
  }
 },
 "nbformat": 4,
 "nbformat_minor": 0
}
